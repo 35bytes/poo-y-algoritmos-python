{
 "metadata": {
  "language_info": {
   "codemirror_mode": {
    "name": "ipython",
    "version": 3
   },
   "file_extension": ".py",
   "mimetype": "text/x-python",
   "name": "python",
   "nbconvert_exporter": "python",
   "pygments_lexer": "ipython3",
   "version": "3.8.5-final"
  },
  "orig_nbformat": 2,
  "kernelspec": {
   "name": "python_defaultSpec_1598132571818",
   "display_name": "Python 3.8.5 64-bit"
  }
 },
 "nbformat": 4,
 "nbformat_minor": 2,
 "cells": [
  {
   "cell_type": "code",
   "execution_count": 18,
   "metadata": {
    "tags": []
   },
   "outputs": [
    {
     "output_type": "stream",
     "name": "stdout",
     "text": "30 3\n30 2\n10 1\n30 1\nEl resultado es 160\nSe llama: 9 \nTamaño: 3\n"
    }
   ],
   "source": [
    "def contador():\n",
    "    global i\n",
    "    i += 1\n",
    "    return i\n",
    "def morral(tamanio_morral, pesos, valores, n):\n",
    "    contador()\n",
    "    if tamanio_morral == 0 or n == 0:\n",
    "        return 0\n",
    "    if pesos[n - 1] > tamanio_morral:\n",
    "        print(tamanio_morral, n)    \n",
    "        return morral(tamanio_morral, pesos, valores, n - 1)\n",
    "    print(tamanio_morral, n)    \n",
    "    return max(valores[n-1] + morral(tamanio_morral - pesos[n - 1], pesos, valores, n - 1), morral(tamanio_morral, pesos, valores, n - 1))\n",
    "    \n",
    "\n",
    "if __name__ == '__main__':\n",
    "    global i\n",
    "    valores = [60, 100, 160]\n",
    "    pesos = [10, 20, 30]\n",
    "    tamanio_morral = 30\n",
    "    n = len(pesos)\n",
    "    i = 0\n",
    "    resultado =  morral(tamanio_morral, pesos, valores, n )\n",
    "    print(f'El resultado es {resultado}')\n",
    "    print(f'Se llama: {i} \\nTamaño: {n}')\n"
   ]
  },
  {
   "cell_type": "code",
   "execution_count": 14,
   "metadata": {
    "tags": []
   },
   "outputs": [
    {
     "output_type": "stream",
     "name": "stdout",
     "text": "cuando N = 1  llama:  3 (2**(n+1)) - 1 =  3\nel valor maximo seria:  80\ncuando N = 2  llama:  3 (2**(n+1)) - 1 =  7\nel valor maximo seria:  0\ncuando N = 3  llama:  7 (2**(n+1)) - 1 =  15\nel valor maximo seria:  49\ncuando N = 4  llama:  9 (2**(n+1)) - 1 =  31\nel valor maximo seria:  155\ncuando N = 5  llama:  16 (2**(n+1)) - 1 =  63\nel valor maximo seria:  74\ncuando N = 6  llama:  19 (2**(n+1)) - 1 =  127\nel valor maximo seria:  56\ncuando N = 7  llama:  95 (2**(n+1)) - 1 =  255\nel valor maximo seria:  278\ncuando N = 8  llama:  56 (2**(n+1)) - 1 =  511\nel valor maximo seria:  139\ncuando N = 9  llama:  176 (2**(n+1)) - 1 =  1023\nel valor maximo seria:  289\ncuando N = 10  llama:  106 (2**(n+1)) - 1 =  2047\nel valor maximo seria:  262\ncuando N = 11  llama:  358 (2**(n+1)) - 1 =  4095\nel valor maximo seria:  171\ncuando N = 12  llama:  504 (2**(n+1)) - 1 =  8191\nel valor maximo seria:  318\ncuando N = 13  llama:  610 (2**(n+1)) - 1 =  16383\nel valor maximo seria:  191\ncuando N = 14  llama:  3336 (2**(n+1)) - 1 =  32767\nel valor maximo seria:  515\n"
    }
   ],
   "source": [
    "import random\n",
    "\n",
    "def contador():\n",
    "\tglobal i\n",
    "\ti=i+1\n",
    "\treturn i\n",
    "\n",
    "def morral(tamano_morral, pesos, valores, n):\n",
    "\tcontador()\n",
    "\tif n == 0 or tamano_morral == 0:\n",
    "\t\treturn 0\n",
    "\t\n",
    "\tif pesos[n-1] > tamano_morral:\n",
    "\t\treturn morral(tamano_morral, pesos, valores, n-1)\n",
    "\t\n",
    "\treturn max(\n",
    "\t\tvalores[n-1] + morral(tamano_morral - pesos[n-1], pesos, valores, n-1),\n",
    "\t\tmorral(tamano_morral, pesos, valores, n-1)\n",
    "\t)\n",
    "\t\n",
    "\n",
    "if __name__ == '__main__':\n",
    "\tglobal i\n",
    "\tfor j in range (1,15):\n",
    "\t\tvalores = [random.randint(0, 100) for i in range(j)]\n",
    "\t\tpesos = [random.randint(0, 100) for i in range(j)]\n",
    "\t\t#valores = [1,2,3,4,60,100,120,20,30,450]\n",
    "\t\t#pesos = [5,10,15,20,10,20,30,11,15,5]\n",
    "\t\ttamano_morral = 10 * j\n",
    "\n",
    "\t\tn = len(valores)\n",
    "\t\ti = 0\t\n",
    "\n",
    "\t\tresultado = morral(tamano_morral, pesos, valores, n)\n",
    "\t\tprint('cuando N =',n, ' llama: ', i, '(2**(n+1)) - 1 = ',(2**(n+1)) - 1)\n",
    "\n",
    "\t\tprint('el valor maximo seria: ',resultado)"
   ]
  }
 ]
}