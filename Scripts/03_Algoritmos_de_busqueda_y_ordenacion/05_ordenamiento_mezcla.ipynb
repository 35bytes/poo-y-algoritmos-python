{
 "metadata": {
  "language_info": {
   "codemirror_mode": {
    "name": "ipython",
    "version": 3
   },
   "file_extension": ".py",
   "mimetype": "text/x-python",
   "name": "python",
   "nbconvert_exporter": "python",
   "pygments_lexer": "ipython3",
   "version": "3.8.3-final"
  },
  "orig_nbformat": 2,
  "kernelspec": {
   "name": "python_defaultSpec_1597529187035",
   "display_name": "Python 3.8.3 64-bit"
  }
 },
 "nbformat": 4,
 "nbformat_minor": 2,
 "cells": [
  {
   "cell_type": "code",
   "execution_count": 14,
   "metadata": {
    "tags": []
   },
   "outputs": [
    {
     "output_type": "stream",
     "name": "stdout",
     "text": "[90, 9, 18, 5]\n[90, 9] ***** [18, 5]\n[90] ***** [9]\nDerecha: [9] - Izquierda: [90]\n[18] ***** [5]\nDerecha: [5] - Izquierda: [18]\nDerecha: [5, 18] - Izquierda: [9, 90]\n[5, 9, 18, 90]\n"
    }
   ],
   "source": [
    "import random\n",
    "\n",
    "def merge_sort(lista):\n",
    "    if len(lista) > 1:\n",
    "        medio = len(lista) // 2\n",
    "        izquierda = lista[:medio]\n",
    "        derecha = lista[medio:]\n",
    "        print( izquierda, \"*\" * 5, derecha)\n",
    "        # llamada recursiva en cada mitad\n",
    "        merge_sort(izquierda)\n",
    "        merge_sort(derecha)\n",
    "\n",
    "        # iteradores para recorrer las dos sublistas\n",
    "        i = 0\n",
    "        j = 0\n",
    "        # Iterador lista principal \n",
    "        k = 0\n",
    "\n",
    "        while i < len(izquierda) and j < len(derecha):\n",
    "            if izquierda[i] < derecha[j]:\n",
    "                lista[k] = izquierda[i]\n",
    "                i += 1\n",
    "            else: \n",
    "                lista[k] = derecha[j]\n",
    "                j += 1\n",
    "            k += 1\n",
    "\n",
    "        while i < len(izquierda):\n",
    "            lista[k] = izquierda[i]\n",
    "            i += 1\n",
    "            k += 1\n",
    "\n",
    "        while j < len(derecha):\n",
    "            lista[k] = derecha[j]\n",
    "            j += 1\n",
    "            k += 1\n",
    "        print(f'Derecha: {derecha} - Izquierda: {izquierda}')\n",
    "\n",
    "    return lista\n",
    "\n",
    "if __name__ == '__main__':\n",
    "    tamanio_de_lista = int(input(\"Coloque el tamaño de la lista: \"))\n",
    "    lista = [random.randint(0,100) for i in range(tamanio_de_lista)]\n",
    "    print(lista)\n",
    "\n",
    "    lista_final = merge_sort(lista)\n",
    "    \n",
    "    print(lista_final)\n",
    "    \n"
   ]
  }
 ]
}