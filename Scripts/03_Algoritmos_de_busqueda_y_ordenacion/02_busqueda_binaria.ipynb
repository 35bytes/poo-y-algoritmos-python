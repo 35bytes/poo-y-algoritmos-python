{
 "metadata": {
  "language_info": {
   "codemirror_mode": {
    "name": "ipython",
    "version": 3
   },
   "file_extension": ".py",
   "mimetype": "text/x-python",
   "name": "python",
   "nbconvert_exporter": "python",
   "pygments_lexer": "ipython3",
   "version": "3.8.3-final"
  },
  "orig_nbformat": 2,
  "kernelspec": {
   "name": "python_defaultSpec_1597366844874",
   "display_name": "Python 3.8.3 64-bit"
  }
 },
 "nbformat": 4,
 "nbformat_minor": 2,
 "cells": [
  {
   "cell_type": "code",
   "execution_count": 10,
   "metadata": {
    "tags": []
   },
   "outputs": [
    {
     "output_type": "stream",
     "name": "stdout",
     "text": "[1, 4, 5, 8, 9, 23, 26, 29, 31, 37, 44, 46, 47, 58, 70, 71, 82, 84, 95, 97]\nBusqueda entre 0 y 20.\nBusqueda entre 0 y 9.\nBusqueda entre 5 y 9.\nBusqueda entre 5 y 6.\nBusqueda entre 5 y 4.\nEl numero 11 no esta  en la lista.\nNumeros de pasos: 5.\n"
    }
   ],
   "source": [
    "import random\n",
    "\n",
    "def busqueda_binaria(lista, comienzo, final, objetivo, contador = 0):\n",
    "    contador += 1\n",
    "    print(f'Busqueda entre {comienzo} y {final}.')\n",
    "    if comienzo > final:\n",
    "        return (False, contador)\n",
    "\n",
    "    medio = (final + comienzo) // 2\n",
    "\n",
    "    if lista[medio] ==  objetivo:\n",
    "        return (True, contador)\n",
    "    elif lista[medio] < objetivo:\n",
    "        return busqueda_binaria(lista, medio + 1, final, objetivo, contador = contador)\n",
    "    else:\n",
    "        return busqueda_binaria(lista, comienzo, medio - 1, objetivo, contador = contador)\n",
    "    \n",
    "\n",
    "if __name__ == '__main__':\n",
    "    tamanio_de_lista = int(input(\"Coloque el tamaño de la lista: \"))\n",
    "    objetivo = int(input(\"Que numero quieres buscar: \"))\n",
    "\n",
    "    lista = sorted([random.randint(0,100) for i in range(tamanio_de_lista)])\n",
    "\n",
    "    print(lista)\n",
    "    (match, contador) = busqueda_binaria(lista, 0, len(lista),objetivo)\n",
    "\n",
    "    print(f'El numero {objetivo} {\"esta \" if match else \"no esta \"} en la lista.')\n",
    "        print(f'Tamaño de la lista: {tamanio_de_lista}')\n",
    "\n",
    "    print(f'Numeros de pasos: {contador}.')"
   ]
  }
 ]
}