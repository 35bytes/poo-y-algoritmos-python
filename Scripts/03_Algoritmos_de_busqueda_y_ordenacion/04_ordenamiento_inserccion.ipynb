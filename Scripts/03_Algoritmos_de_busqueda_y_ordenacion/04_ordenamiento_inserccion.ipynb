{
 "metadata": {
  "language_info": {
   "codemirror_mode": {
    "name": "ipython",
    "version": 3
   },
   "file_extension": ".py",
   "mimetype": "text/x-python",
   "name": "python",
   "nbconvert_exporter": "python",
   "pygments_lexer": "ipython3",
   "version": 3
  },
  "orig_nbformat": 2
 },
 "nbformat": 4,
 "nbformat_minor": 2,
 "cells": [
  {
   "cell_type": "code",
   "execution_count": null,
   "metadata": {},
   "outputs": [],
   "source": [
    "import random\n",
    "def insertion_sort(lista, contador = 0):\n",
    "    n = len(lista)\n",
    "    \n",
    "    for i in range(1, n - 1):\n",
    "        contador += 1\n",
    "        value = lista[i]\n",
    "        j = i - 1\n",
    "        while(j >= 0 and lista[j] > value):\n",
    "            lista[j + 1] = lista[j]\n",
    "            j -= 1\n",
    "        lista[j + 1] = value\n",
    "\n",
    "    return (lista, contador)\n",
    "\n",
    "\n",
    "\n",
    "if __name__ == '__main__':\n",
    "    tamanio_de_lista = int(input(\"Coloque el tamaño de la lista: \"))\n",
    "    lista = [random.randint(0,100) for i in range(tamanio_de_lista)]\n",
    "\n",
    "    (lista, contador) = insertion_sort(lista)\n",
    "    \n",
    "    print(lista)\n",
    "    print(f'Numeros de pasos: {contador}.') "
   ]
  }
 ]
}