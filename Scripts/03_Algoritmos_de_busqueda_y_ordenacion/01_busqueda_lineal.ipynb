{
 "metadata": {
  "language_info": {
   "codemirror_mode": {
    "name": "ipython",
    "version": 3
   },
   "file_extension": ".py",
   "mimetype": "text/x-python",
   "name": "python",
   "nbconvert_exporter": "python",
   "pygments_lexer": "ipython3",
   "version": "3.8.3-final"
  },
  "orig_nbformat": 2,
  "kernelspec": {
   "name": "python_defaultSpec_1597366844868",
   "display_name": "Python 3.8.3 64-bit"
  }
 },
 "nbformat": 4,
 "nbformat_minor": 2,
 "cells": [
  {
   "cell_type": "code",
   "execution_count": 2,
   "metadata": {
    "tags": []
   },
   "outputs": [
    {
     "output_type": "stream",
     "name": "stdout",
     "text": "[41, 51, 73, 33, 91, 43, 69, 50, 70, 13, 87, 12, 84, 29, 33, 35, 95, 27, 19, 25]\nEl numero 10 no esta  en la lista.\nTamaño de la lista: 20\nNumeros de pasos: 20\n"
    }
   ],
   "source": [
    "import random\n",
    "\n",
    "def busqueda_lineal(lista, objetivo, contador = 0):\n",
    "    match = False\n",
    "\n",
    "    for elemento in lista:\n",
    "        contador += 1\n",
    "        if elemento == objetivo:\n",
    "            match = True\n",
    "        \n",
    "    return (match, contador)\n",
    "\n",
    "if __name__ == '__main__':\n",
    "    tamanio_de_lista = int(input(\"Coloque el tamaño de la lista: \"))\n",
    "    objetivo = int(input(\"Que numero quieres buscar: \"))\n",
    "    lista = [random.randint(0,100) for i in range(tamanio_de_lista)]\n",
    "\n",
    "    value,contador = busqueda_lineal(lista, objetivo)\n",
    "    print(lista)\n",
    "    print(f'El numero {objetivo} {\"esta \" if value else \"no esta \"} en la lista.')\n",
    "    print(f'Tamaño de la lista: {tamanio_de_lista}')\n",
    "    print(f'Numeros de pasos: {contador}')\n"
   ]
  }
 ]
}