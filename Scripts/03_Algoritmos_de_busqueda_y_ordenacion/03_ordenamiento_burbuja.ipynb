{
 "metadata": {
  "language_info": {
   "codemirror_mode": {
    "name": "ipython",
    "version": 3
   },
   "file_extension": ".py",
   "mimetype": "text/x-python",
   "name": "python",
   "nbconvert_exporter": "python",
   "pygments_lexer": "ipython3",
   "version": "3.8.3-final"
  },
  "orig_nbformat": 2,
  "kernelspec": {
   "name": "python_defaultSpec_1597454593695",
   "display_name": "Python 3.8.3 64-bit"
  }
 },
 "nbformat": 4,
 "nbformat_minor": 2,
 "cells": [
  {
   "cell_type": "code",
   "execution_count": 16,
   "metadata": {
    "tags": []
   },
   "outputs": [
    {
     "output_type": "stream",
     "name": "stdout",
     "text": "99 99\n33 99\n33 99\n33 99\n33 99\n33 99\n33 99\n33 99\n33 99\n0 33\n33 33\n33 91\n33 91\n33 97\n33 97\n33 97\n33 99\n57 0\n57 33\n57 57\n57 91\n57 91\n57 91\n57 97\n46 0\n46 33\n46 57\n57 57\n57 65\n57 91\n65 0\n65 33\n65 46\n65 57\n65 65\n65 0\n65 33\n65 46\n65 57\n91 0\n91 33\n91 46\n97 0\n97 33\n99 0\n[0, 33, 44, 46, 57, 65, 91, 97, 99, 99]\nNumeros de pasos: 21.\n"
    }
   ],
   "source": [
    "import random\n",
    "def buble_sort(lista, contador = 0):\n",
    "    n = len(lista)\n",
    "    for i in range(n - 1):\n",
    "        for j in range(0 ,n - i - 1):\n",
    "            \n",
    "                contador += 1\n",
    "            if lista[j] > lista[j + 1]:\n",
    "                lista[j], lista[j + 1] = lista[j + 1], lista[j]\n",
    "    return (lista, contador)\n",
    "\n",
    "if __name__ == '__main__':\n",
    "    tamanio_de_lista = int(input(\"Coloque el tamaño de la lista: \"))\n",
    "    lista = [random.randint(0,100) for i in range(tamanio_de_lista)]\n",
    "\n",
    "    (lista, contador) = buble_sort(lista)\n",
    "\n",
    "    print(lista)\n",
    "    print(f'Numeros de pasos: {contador}.') "
   ]
  }
 ]
}