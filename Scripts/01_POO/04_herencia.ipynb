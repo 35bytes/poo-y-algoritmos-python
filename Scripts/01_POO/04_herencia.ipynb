{
 "metadata": {
  "language_info": {
   "codemirror_mode": {
    "name": "ipython",
    "version": 3
   },
   "file_extension": ".py",
   "mimetype": "text/x-python",
   "name": "python",
   "nbconvert_exporter": "python",
   "pygments_lexer": "ipython3",
   "version": 3
  },
  "orig_nbformat": 2,
  "kernelspec": {
   "name": "python_defaultSpec_1597274736290",
   "display_name": "Python 3.8.3 64-bit"
  }
 },
 "nbformat": 4,
 "nbformat_minor": 2,
 "cells": [
  {
   "cell_type": "code",
   "execution_count": 5,
   "metadata": {
    "tags": []
   },
   "outputs": [
    {
     "output_type": "stream",
     "name": "stdout",
     "text": "\n        Salud: 40\n        Ataque: 5\n        \n"
    }
   ],
   "source": [
    "class Obrero():\n",
    "    def __init__(self, salud = 40, ataque = 5):\n",
    "        self.salud = salud;\n",
    "        self.ataque = ataque;\n",
    "\n",
    "    def info(self):\n",
    "        print(f'''\n",
    "        Salud: {self.salud}\n",
    "Ataque: {self.ataque}\n",
    "        ''')\n",
    "if __name__ == '__main__':\n",
    "    obrero = Obrero()\n",
    "    obrero.info()"
   ]
  },
  {
   "cell_type": "code",
   "execution_count": 7,
   "metadata": {
    "tags": []
   },
   "outputs": [
    {
     "output_type": "stream",
     "name": "stdout",
     "text": "\n        Salud: 180\n        Ataque: 100\n        \n\n        Lanzatonio ataque especial.\n        Daño: 400\n        \n"
    }
   ],
   "source": [
    "class Lanzatonio(Obrero):\n",
    "    def __init__(self, salud = 180, ataque = 100):\n",
    "        super().__init__(salud, ataque);\n",
    "    \n",
    "    def special_attack(self):\n",
    "        self.ataque *=2;\n",
    "        print(f'''\n",
    "        Lanzatonio ataque especial.\n",
    "        Daño: {self.ataque}\n",
    "        ''')\n",
    "\n",
    "\n",
    "if __name__ == '__main__':\n",
    "    lanzatonio = Lanzatonio()\n",
    "    lanzatonio.info()\n",
    "    lanzatonio.special_attack()"
   ]
  }
 ]
}