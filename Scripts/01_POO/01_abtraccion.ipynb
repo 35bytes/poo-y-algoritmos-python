{
 "metadata": {
  "language_info": {
   "codemirror_mode": {
    "name": "ipython",
    "version": 3
   },
   "file_extension": ".py",
   "mimetype": "text/x-python",
   "name": "python",
   "nbconvert_exporter": "python",
   "pygments_lexer": "ipython3",
   "version": 3
  },
  "orig_nbformat": 2,
  "kernelspec": {
   "name": "python_defaultSpec_1597334027422",
   "display_name": "Python 3.8.3 64-bit"
  }
 },
 "nbformat": 4,
 "nbformat_minor": 2,
 "cells": [
  {
   "cell_type": "code",
   "execution_count": 3,
   "metadata": {
    "tags": []
   },
   "outputs": [
    {
     "output_type": "stream",
     "name": "stdout",
     "text": "Llenando el tanque con agua caliente\nAnadiendo jabon\nLavando la ropa\nCentrifugando la ropa\n"
    }
   ],
   "source": [
    "class Lavadora:\n",
    "\n",
    "    def __init__(self):\n",
    "        pass\n",
    "\n",
    "    def lavar(self, temperatura='caliente'):\n",
    "        self._llenar_tanque_de_agua(temperatura)\n",
    "        self._anadir_jabon()\n",
    "        self._lavar()\n",
    "        self._centrifugar()\n",
    "\n",
    "    def _llenar_tanque_de_agua(self, temperatura):\n",
    "        print(f'Llenando el tanque con agua {temperatura}')\n",
    "\n",
    "    def _anadir_jabon(self):\n",
    "        print('Anadiendo jabon')\n",
    "\n",
    "    def _lavar(self):\n",
    "        print('Lavando la ropa')\n",
    "\n",
    "    def _centrifugar(self):\n",
    "        print('Centrifugando la ropa')\n",
    "\n",
    "\n",
    "if __name__ == '__main__':\n",
    "    lavadora = Lavadora()\n",
    "    lavadora.lavar()"
   ]
  }
 ]
}